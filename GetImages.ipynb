{
 "cells": [
  {
   "cell_type": "code",
   "execution_count": 1,
   "id": "be92b96b",
   "metadata": {},
   "outputs": [],
   "source": [
    "import requests, os, imagehash, time\n",
    "import pandas as pd\n",
    "\n",
    "from selenium import webdriver\n",
    "from selenium.webdriver.common.by import By\n",
    "from selenium.webdriver.support.ui import WebDriverWait\n",
    "from selenium.webdriver.support import expected_conditions as EC\n",
    "\n",
    "from PIL import Image, ImageChops"
   ]
  },
  {
   "cell_type": "code",
   "execution_count": 2,
   "id": "ea450f0e",
   "metadata": {},
   "outputs": [],
   "source": [
    "webdrive_path = 'webdrive\\chromedriver.exe'\n",
    "origin_folder_path = 'tiger_origin'\n",
    "image_folder_path = 'tiger'\n",
    "\n",
    "new_size = 256\n",
    "crop_f = 1.5"
   ]
  },
  {
   "cell_type": "code",
   "execution_count": null,
   "id": "388a0bd9",
   "metadata": {},
   "outputs": [],
   "source": [
    "def get_images_urls(url):\n",
    "    driver = webdriver.Chrome(executable_path = webdrive_path)\n",
    "    driver.get(url)\n",
    "    driver.implicitly_wait(30)\n",
    "\n",
    "    for _ in range(15):\n",
    "        driver.execute_script(\"window.scrollTo(0, document.body.scrollHeight);\")\n",
    "        time.sleep(1)\n",
    "\n",
    "    images = driver.find_elements_by_css_selector('div.imgpt img')\n",
    "    \n",
    "    images_link_list = []\n",
    "\n",
    "    for image in images:\n",
    "        images_link_list.append(image.get_attribute(\"src\"))\n",
    "        \n",
    "    driver.close()\n",
    "    \n",
    "    print('Found: ', len(images_link_list))\n",
    "    \n",
    "    return images_link_list"
   ]
  },
  {
   "cell_type": "markdown",
   "id": "b5f9e42e",
   "metadata": {},
   "source": [
    "# Find image links:"
   ]
  },
  {
   "cell_type": "code",
   "execution_count": null,
   "id": "73672d88",
   "metadata": {},
   "outputs": [],
   "source": [
    "# cat url at Bing\n",
    "url_1 = 'https://www.bing.com/images/search?q=cat%20forest&qs=n&form=QBIRMH&qft=%20filterui%3Alicense-L2_L3_L4_L5_L6_L7&sp=-1&pq=cat%20forest&sc=8-10&cvid=5B6ACB06341C4F8B967412A7F4105EE8&first=1&tsc=ImageBasicHover'\n",
    "url_2 = 'https://www.bing.com/images/search?q=cat%20garden&qs=n&form=QBIRMH&qft=%20filterui%3Alicense-L2_L3_L4_L5_L6_L7&sp=-1&pq=cat%20garden&sc=8-10&cvid=8E62AFD92FD54F0C8456855B60D30EC4&first=1&tsc=ImageBasicHover'\n",
    "url_3 = 'https://www.bing.com/images/search?q=cat%20home&qs=n&form=QBIRMH&qft=%20filterui%3Alicense-L2_L3_L4_L5_L6_L7&sp=-1&pq=cat%20home&sc=8-8&cvid=10DCAEC5DA7040D68F9A888C165B3A5D&first=1&tsc=ImageBasicHover'"
   ]
  },
  {
   "cell_type": "code",
   "execution_count": null,
   "id": "03c2c703",
   "metadata": {},
   "outputs": [],
   "source": [
    "# tiger url at Bing\n",
    "url_1 = 'https://www.bing.com/images/search?q=tiger&qft=+filterui:licenseType-Any&form=IRFLTR&first=1&tsc=ImageBasicHover'\n",
    "url_2 = 'https://www.bing.com/images/search?q=tiger%20wild&qs=n&form=QBIR&qft=%20filterui%3AlicenseType-Any&sp=-1&pq=tiger%20wild&sc=8-10&cvid=1B7286FEE2DA48B98EE9B4238F53EF42&first=1&tsc=ImageBasicHover'\n",
    "url_3 = 'https://www.bing.com/images/search?q=wild%20tiger%20russia&qs=n&form=QBIRMH&qft=%20filterui%3AlicenseType-Any&sp=-1&pq=wild%20tiger%20russia&sc=0-17&cvid=CB89D5C58817481288A6FFDD342BE29E&first=1&tsc=ImageBasicHover'"
   ]
  },
  {
   "cell_type": "code",
   "execution_count": null,
   "id": "02dca29d",
   "metadata": {},
   "outputs": [],
   "source": [
    "df = pd.DataFrame([])\n",
    "urls = [url_1, url_2, url_3]\n",
    "\n",
    "for url in urls:\n",
    "    list_url = get_images_urls(url)\n",
    "    df = df.append(list_url, ignore_index=True)\n",
    "\n",
    "# list_url = get_images_urls(url_1)\n",
    "# df = df.append(list_url, ignore_index=True)\n",
    "\n",
    "df = df.drop_duplicates()\n",
    "df = df.dropna()\n",
    "df = df[df[0].str.contains(\"data:\")==False]\n",
    "df.reset_index(drop=True, inplace=True)\n",
    "    \n",
    "print('Total found links:', df.shape[0])\n"
   ]
  },
  {
   "cell_type": "code",
   "execution_count": null,
   "id": "55f6b29a",
   "metadata": {},
   "outputs": [],
   "source": [
    "df.to_csv('link.csv', index=False)"
   ]
  },
  {
   "cell_type": "code",
   "execution_count": 88,
   "id": "c551ec2e",
   "metadata": {},
   "outputs": [
    {
     "data": {
      "text/html": [
       "<div>\n",
       "<style scoped>\n",
       "    .dataframe tbody tr th:only-of-type {\n",
       "        vertical-align: middle;\n",
       "    }\n",
       "\n",
       "    .dataframe tbody tr th {\n",
       "        vertical-align: top;\n",
       "    }\n",
       "\n",
       "    .dataframe thead th {\n",
       "        text-align: right;\n",
       "    }\n",
       "</style>\n",
       "<table border=\"1\" class=\"dataframe\">\n",
       "  <thead>\n",
       "    <tr style=\"text-align: right;\">\n",
       "      <th></th>\n",
       "      <th>0</th>\n",
       "    </tr>\n",
       "  </thead>\n",
       "  <tbody>\n",
       "    <tr>\n",
       "      <th>0</th>\n",
       "      <td>https://th.bing.com/th/id/OIP.m3qQqf9xNgIWxmMk...</td>\n",
       "    </tr>\n",
       "    <tr>\n",
       "      <th>1</th>\n",
       "      <td>https://th.bing.com/th/id/OIP.tD5cJfASCM699x9t...</td>\n",
       "    </tr>\n",
       "    <tr>\n",
       "      <th>2</th>\n",
       "      <td>https://th.bing.com/th/id/OIP.LBM3Yp6mlyO5o7LT...</td>\n",
       "    </tr>\n",
       "    <tr>\n",
       "      <th>3</th>\n",
       "      <td>https://th.bing.com/th/id/OIP.5GerT3NDMrr2ayew...</td>\n",
       "    </tr>\n",
       "    <tr>\n",
       "      <th>4</th>\n",
       "      <td>https://th.bing.com/th/id/OIP.QAGUQEqt4ADVCVRf...</td>\n",
       "    </tr>\n",
       "  </tbody>\n",
       "</table>\n",
       "</div>"
      ],
      "text/plain": [
       "                                                   0\n",
       "0  https://th.bing.com/th/id/OIP.m3qQqf9xNgIWxmMk...\n",
       "1  https://th.bing.com/th/id/OIP.tD5cJfASCM699x9t...\n",
       "2  https://th.bing.com/th/id/OIP.LBM3Yp6mlyO5o7LT...\n",
       "3  https://th.bing.com/th/id/OIP.5GerT3NDMrr2ayew...\n",
       "4  https://th.bing.com/th/id/OIP.QAGUQEqt4ADVCVRf..."
      ]
     },
     "execution_count": 88,
     "metadata": {},
     "output_type": "execute_result"
    }
   ],
   "source": [
    "df.head()"
   ]
  },
  {
   "cell_type": "markdown",
   "id": "3cfe532d",
   "metadata": {},
   "source": [
    "# Get images"
   ]
  },
  {
   "cell_type": "code",
   "execution_count": 89,
   "id": "f90832f3",
   "metadata": {},
   "outputs": [
    {
     "name": "stdout",
     "output_type": "stream",
     "text": [
      "Total image links: 1474\n"
     ]
    }
   ],
   "source": [
    "df = pd.read_csv('link.csv') \n",
    "df = pd.DataFrame(df)\n",
    "print('Total image links:', df.shape[0])"
   ]
  },
  {
   "cell_type": "code",
   "execution_count": 56,
   "id": "3a49ef2b",
   "metadata": {},
   "outputs": [
    {
     "data": {
      "text/plain": [
       "'https://th.bing.com/th/id/OIP.LBM3Yp6mlyO5o7LT6GjHSgHaE8?w=238&h=180&c=7&r=0&o=5&pid=1.7'"
      ]
     },
     "execution_count": 56,
     "metadata": {},
     "output_type": "execute_result"
    }
   ],
   "source": [
    "df.loc[2]["
   ]
  },
  {
   "cell_type": "code",
   "execution_count": 91,
   "id": "df4e0695",
   "metadata": {},
   "outputs": [
    {
     "data": {
      "text/html": [
       "<div>\n",
       "<style scoped>\n",
       "    .dataframe tbody tr th:only-of-type {\n",
       "        vertical-align: middle;\n",
       "    }\n",
       "\n",
       "    .dataframe tbody tr th {\n",
       "        vertical-align: top;\n",
       "    }\n",
       "\n",
       "    .dataframe thead th {\n",
       "        text-align: right;\n",
       "    }\n",
       "</style>\n",
       "<table border=\"1\" class=\"dataframe\">\n",
       "  <thead>\n",
       "    <tr style=\"text-align: right;\">\n",
       "      <th></th>\n",
       "      <th>0</th>\n",
       "    </tr>\n",
       "  </thead>\n",
       "  <tbody>\n",
       "    <tr>\n",
       "      <th>251</th>\n",
       "      <td>https://th.bing.com/th/id/OIP.VdRisYeSAwmWgPhE...</td>\n",
       "    </tr>\n",
       "    <tr>\n",
       "      <th>252</th>\n",
       "      <td>https://th.bing.com/th/id/OIP.7Rt5YT5R8V_NQoxn...</td>\n",
       "    </tr>\n",
       "    <tr>\n",
       "      <th>253</th>\n",
       "      <td>https://th.bing.com/th/id/OIP.mq7vC2hP5THFR8Vg...</td>\n",
       "    </tr>\n",
       "    <tr>\n",
       "      <th>254</th>\n",
       "      <td>https://th.bing.com/th/id/OIP.6xXuF4ANrmvdXE3h...</td>\n",
       "    </tr>\n",
       "    <tr>\n",
       "      <th>255</th>\n",
       "      <td>https://th.bing.com/th/id/OIP.rSVgR6-eTamY5YD0...</td>\n",
       "    </tr>\n",
       "    <tr>\n",
       "      <th>...</th>\n",
       "      <td>...</td>\n",
       "    </tr>\n",
       "    <tr>\n",
       "      <th>495</th>\n",
       "      <td>https://th.bing.com/th/id/OIP.IfBTKKbXTvFGgFHX...</td>\n",
       "    </tr>\n",
       "    <tr>\n",
       "      <th>496</th>\n",
       "      <td>https://th.bing.com/th/id/OIP.TwAFpi8hfMulkRmo...</td>\n",
       "    </tr>\n",
       "    <tr>\n",
       "      <th>497</th>\n",
       "      <td>https://th.bing.com/th/id/OIP.7NZXB0JgU_n4UtkB...</td>\n",
       "    </tr>\n",
       "    <tr>\n",
       "      <th>498</th>\n",
       "      <td>https://th.bing.com/th/id/OIP.NE7NlpA0d4uIuYF6...</td>\n",
       "    </tr>\n",
       "    <tr>\n",
       "      <th>499</th>\n",
       "      <td>https://th.bing.com/th/id/OIP.3KDEOsa3ER6h4ytp...</td>\n",
       "    </tr>\n",
       "  </tbody>\n",
       "</table>\n",
       "<p>249 rows × 1 columns</p>\n",
       "</div>"
      ],
      "text/plain": [
       "                                                     0\n",
       "251  https://th.bing.com/th/id/OIP.VdRisYeSAwmWgPhE...\n",
       "252  https://th.bing.com/th/id/OIP.7Rt5YT5R8V_NQoxn...\n",
       "253  https://th.bing.com/th/id/OIP.mq7vC2hP5THFR8Vg...\n",
       "254  https://th.bing.com/th/id/OIP.6xXuF4ANrmvdXE3h...\n",
       "255  https://th.bing.com/th/id/OIP.rSVgR6-eTamY5YD0...\n",
       "..                                                 ...\n",
       "495  https://th.bing.com/th/id/OIP.IfBTKKbXTvFGgFHX...\n",
       "496  https://th.bing.com/th/id/OIP.TwAFpi8hfMulkRmo...\n",
       "497  https://th.bing.com/th/id/OIP.7NZXB0JgU_n4UtkB...\n",
       "498  https://th.bing.com/th/id/OIP.NE7NlpA0d4uIuYF6...\n",
       "499  https://th.bing.com/th/id/OIP.3KDEOsa3ER6h4ytp...\n",
       "\n",
       "[249 rows x 1 columns]"
      ]
     },
     "execution_count": 91,
     "metadata": {},
     "output_type": "execute_result"
    }
   ],
   "source": [
    "df[251:500]"
   ]
  },
  {
   "cell_type": "code",
   "execution_count": 80,
   "id": "feecd792",
   "metadata": {},
   "outputs": [],
   "source": [
    "p = requests.get(df.loc[100][0])\n",
    "\n",
    "out = open(f\"{origin_folder_path}/{100}.jpg\", \"wb\")\n",
    "out.write(p.content)\n",
    "out.close()"
   ]
  },
  {
   "cell_type": "code",
   "execution_count": 92,
   "id": "629e577e",
   "metadata": {},
   "outputs": [],
   "source": [
    "def get_photo(df, folder_name):\n",
    "    \n",
    "    if not os.path.exists(folder_name):\n",
    "        os.makedirs(folder_name)\n",
    "        print(\"Directory \" , folder_name ,  \" Created \")\n",
    "        \n",
    "    i = 1\n",
    "    for i in range(len(df)):\n",
    "        p = requests.get(df.loc[i][0])\n",
    "        out = open(f\"{folder_name}/{i}.jpg\", \"wb\")\n",
    "        out.write(p.content)\n",
    "        out.close()\n",
    "    print('Done')"
   ]
  },
  {
   "cell_type": "code",
   "execution_count": 93,
   "id": "ebaddedc",
   "metadata": {},
   "outputs": [
    {
     "name": "stdout",
     "output_type": "stream",
     "text": [
      "Done\n"
     ]
    }
   ],
   "source": [
    "get_photo(df, origin_folder_path)"
   ]
  },
  {
   "cell_type": "code",
   "execution_count": 95,
   "id": "fbbdf8eb",
   "metadata": {},
   "outputs": [],
   "source": [
    "im=Image.open(f'{origin_folder_path}\\\\1.jpg') \n",
    "im.show()"
   ]
  },
  {
   "cell_type": "code",
   "execution_count": null,
   "id": "320b328e",
   "metadata": {},
   "outputs": [],
   "source": [
    "# def difference_images(img1, img2):\n",
    "#     image_1 = Image.open(img1)\n",
    "#     image_2 = Image.open(img2)\n",
    "#     result=ImageChops.difference(image_1, image_2).getbbox()\n",
    "#     if result==None:\n",
    "#         print(img1,img2,'matches')\n",
    "#     return"
   ]
  },
  {
   "cell_type": "markdown",
   "id": "30518a42",
   "metadata": {},
   "source": [
    "# Find dublicates:"
   ]
  },
  {
   "cell_type": "code",
   "execution_count": 98,
   "id": "bcb932e1",
   "metadata": {},
   "outputs": [
    {
     "name": "stdout",
     "output_type": "stream",
     "text": [
      "Found dublicates: 60\n"
     ]
    }
   ],
   "source": [
    "i = 0\n",
    "\n",
    "hashes = {}\n",
    "duplicate = {}\n",
    "\n",
    "for filename in os.listdir(origin_folder_path):\n",
    "    image = Image.open(f'{origin_folder_path}\\\\{filename}')\n",
    "    temp_hash = imagehash.average_hash(image)\n",
    "    if temp_hash in hashes:\n",
    "        duplicate[filename] = image\n",
    "    else:\n",
    "        hashes[temp_hash] = image\n",
    "            \n",
    "print('Found dublicates:', len(duplicate))\n",
    "# duplicate['1046.jpg'].show()"
   ]
  },
  {
   "cell_type": "code",
   "execution_count": 100,
   "id": "8a50e189",
   "metadata": {},
   "outputs": [],
   "source": [
    "# del dublicates\n",
    "for filename in duplicate.keys():\n",
    "    os.remove(f'{origin_folder_path}\\\\{filename}')"
   ]
  },
  {
   "cell_type": "markdown",
   "id": "8ebcaf5f",
   "metadata": {},
   "source": [
    "# Reshape foto:"
   ]
  },
  {
   "cell_type": "code",
   "execution_count": 103,
   "id": "5e8448b2",
   "metadata": {},
   "outputs": [],
   "source": [
    "def crop_center(pil_img, new_size):\n",
    "    img_width, img_height = pil_img.size\n",
    "    return pil_img.crop(((img_width - new_size) // 2,\n",
    "                         (img_height - new_size) // 2,\n",
    "                         (img_width + new_size) // 2,\n",
    "                         (img_height + new_size) // 2))"
   ]
  },
  {
   "cell_type": "code",
   "execution_count": 106,
   "id": "2520e8ae",
   "metadata": {},
   "outputs": [
    {
     "name": "stdout",
     "output_type": "stream",
     "text": [
      "Directory  tiger  Created \n",
      "Prepared images: 1124\n"
     ]
    }
   ],
   "source": [
    "k = 0\n",
    "\n",
    "if not os.path.exists(image_folder_path):\n",
    "        os.makedirs(image_folder_path)\n",
    "        print(\"Directory \" , image_folder_path ,  \" Created \")\n",
    "\n",
    "for filename in os.listdir(origin_folder_path):\n",
    "    \n",
    "    img = Image.open(f'{origin_folder_path}\\\\{filename}')\n",
    "    img_w, img_h = img.size\n",
    "    \n",
    "    if(img_w < new_size) or (img_h < new_size):\n",
    "        if img_h > img_w:\n",
    "            scale = new_size / img_w\n",
    "            img_w_new = new_size\n",
    "            img_h_new = int((float(img_h)*float(scale)))\n",
    "        else:\n",
    "            scale = new_size / img_h\n",
    "            img_w_new = int((float(img_w)*float(scale)))\n",
    "            img_h_new = new_size \n",
    "            \n",
    "        img_new = img.resize((img_w_new, img_h_new), Image.ANTIALIAS)\n",
    "        \n",
    "        if img_w_new / new_size >= crop_f or img_h_new / new_size >= crop_f:\n",
    "            # .crop((left, top, right, bottom))\n",
    "            \n",
    "            img_new2 = crop_center(img_new, new_size)\n",
    "            img_new2.save(f'{image_folder_path}\\\\{k}.jpg')\n",
    "            k += 1\n",
    "            \n",
    "            img_new2 = img_new.crop((0, 0, new_size, new_size))\n",
    "            img_new2.save(f'{image_folder_path}\\\\{k}.jpg')\n",
    "            k += 1\n",
    "            \n",
    "            img_new = img_new.crop((img_w_new - new_size, img_h_new - new_size, img_w_new, img_h_new))\n",
    "            img_new.save(f'{image_folder_path}\\\\{k}.jpg')\n",
    "            k += 1\n",
    "                        \n",
    "        else:\n",
    "            img_new = crop_center(img_new, new_size)\n",
    "            img_new.save(f'{image_folder_path}\\\\{k}.jpg')\n",
    "            k += 1\n",
    "print('Prepared images:', k)"
   ]
  }
 ],
 "metadata": {
  "kernelspec": {
   "display_name": "Python 3 (ipykernel)",
   "language": "python",
   "name": "python3"
  },
  "language_info": {
   "codemirror_mode": {
    "name": "ipython",
    "version": 3
   },
   "file_extension": ".py",
   "mimetype": "text/x-python",
   "name": "python",
   "nbconvert_exporter": "python",
   "pygments_lexer": "ipython3",
   "version": "3.9.7"
  }
 },
 "nbformat": 4,
 "nbformat_minor": 5
}
